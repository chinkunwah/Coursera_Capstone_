{
 "cells": [
  {
   "cell_type": "markdown",
   "metadata": {},
   "source": [
    "# CAPSTONE PROJECT: BATTLE OF THE NEIGHBORHOODS"
   ]
  },
  {
   "cell_type": "markdown",
   "metadata": {},
   "source": [
    "## Analyzing Food Place in Bali"
   ]
  },
  {
   "cell_type": "markdown",
   "metadata": {},
   "source": [
    "### I. Purpose"
   ]
  },
  {
   "cell_type": "markdown",
   "metadata": {},
   "source": [
    "This document provides the details of my final peer reviewed assignment for the IBM Data Science Professional Certificate program – Coursera Capstone."
   ]
  },
  {
   "cell_type": "markdown",
   "metadata": {},
   "source": [
    "### II. Introduction"
   ]
  },
  {
   "cell_type": "markdown",
   "metadata": {},
   "source": [
    "Mostly for those who first time visiting Bali, it will be hard to find the best location to stay where you may find good foods within a walking distance from where you stay. Plenty of dining options ranging from a casual cafe brunch, quality local coffee, enticing patisseries and fresh seafood. Regardless of your budget, it’s possible to have something different and exciting every meal but how can we decide the best location especially for the foodies.  \n",
    "\n",
    "Most people plan their first trip to Bali for the sun and beaches but I would definitely go back for the amazing food. Known for its surf worthy beaches, spiritual retreats and endless outdoor activities, Bali is also a foodie heaven if you know where to look.\n",
    "\n",
    "My data visualisation project hopes to provide planners with a cockpit view of the local food landscape, by mapping the distribution of the different cuisines in Bali, to help identify ethnic food enclaves, trace the popularity trends of specific local foods in Bali, as well as to understand how price elasticity of local food impacts it's economic accessibility and review ratings."
   ]
  },
  {
   "cell_type": "markdown",
   "metadata": {},
   "source": [
    "### III. Data"
   ]
  },
  {
   "cell_type": "markdown",
   "metadata": {},
   "source": [
    "In order to accomplish this goal, latitudes and longitudes of Bali is required. Wikipedia offers a simple, accurate and up-to-date database of the world's cities and their locations. From this data, I need to select the city and using their latitude and longitude values, I need to explore the venues with \"restaurant\" section around these city by utilizing Foursquare API. The following information are retrieved on the first query:\n",
    "\n",
    "-Venue ID \n",
    "\n",
    "-Venue Name\n",
    "\n",
    "-Coordinates : Latitude and Longitude\n",
    "\n",
    "-Category Name\n",
    "\n",
    "Another venue query will be performed to retrieve venue ratings for each location. Note that rating information is a paid service from FourSquare and we are limited to only 50 queries per day. With this constraint, we limit the category analysis with only one type for this demo. I will try to retrieve as many ratings as possible for each retrieved venue ID."
   ]
  },
  {
   "cell_type": "markdown",
   "metadata": {},
   "source": []
  },
  {
   "cell_type": "markdown",
   "metadata": {},
   "source": []
  },
  {
   "cell_type": "code",
   "execution_count": null,
   "metadata": {},
   "outputs": [],
   "source": []
  }
 ],
 "metadata": {
  "kernelspec": {
   "display_name": "Python 3",
   "language": "python",
   "name": "python3"
  },
  "language_info": {
   "codemirror_mode": {
    "name": "ipython",
    "version": 3
   },
   "file_extension": ".py",
   "mimetype": "text/x-python",
   "name": "python",
   "nbconvert_exporter": "python",
   "pygments_lexer": "ipython3",
   "version": "3.7.3"
  }
 },
 "nbformat": 4,
 "nbformat_minor": 2
}
