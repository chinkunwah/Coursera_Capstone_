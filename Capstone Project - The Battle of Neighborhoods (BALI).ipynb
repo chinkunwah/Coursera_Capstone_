{
 "cells": [
  {
   "cell_type": "markdown",
   "metadata": {},
   "source": [
    "## Analyzing Food/ Drinking Place in Bali"
   ]
  },
  {
   "cell_type": "markdown",
   "metadata": {},
   "source": [
    "### 1. Problem Description"
   ]
  },
  {
   "cell_type": "markdown",
   "metadata": {},
   "source": [
    "Mostly for those who first time visiting Bali, it will be hard to find the best location to stay where you may find good foods within a walking distance from where you stay. Plenty of dining options ranging from a casual cafe brunch, great tex-mex, quality local coffee, enticing patisseries and fresh seafood! Regardless of your budget, it’s possible to have something different and exciting every meal but how can we decide the best location especially for the foodies. "
   ]
  },
  {
   "cell_type": "markdown",
   "metadata": {},
   "source": [
    "### 2. Background"
   ]
  },
  {
   "cell_type": "markdown",
   "metadata": {},
   "source": [
    "Most people plan their first trip to Bali for the sun and beaches but I would definitely go back for the amazing food. Known for its surf worthy beaches, spiritual retreats and endless outdoor activities, Bali is also a foodie heaven if you know where to look."
   ]
  },
  {
   "cell_type": "markdown",
   "metadata": {},
   "source": [
    "### 3. Data"
   ]
  },
  {
   "cell_type": "markdown",
   "metadata": {},
   "source": [
    "To consider the problem we can use Forsquare API to get the most common food or beverages venues."
   ]
  },
  {
   "cell_type": "code",
   "execution_count": null,
   "metadata": {},
   "outputs": [],
   "source": []
  }
 ],
 "metadata": {
  "kernelspec": {
   "display_name": "Python 3",
   "language": "python",
   "name": "python3"
  },
  "language_info": {
   "codemirror_mode": {
    "name": "ipython",
    "version": 3
   },
   "file_extension": ".py",
   "mimetype": "text/x-python",
   "name": "python",
   "nbconvert_exporter": "python",
   "pygments_lexer": "ipython3",
   "version": "3.7.3"
  }
 },
 "nbformat": 4,
 "nbformat_minor": 2
}
